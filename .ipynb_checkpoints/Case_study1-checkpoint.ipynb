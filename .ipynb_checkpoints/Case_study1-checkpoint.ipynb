{
 "cells": [
  {
   "cell_type": "code",
   "execution_count": 1,
   "metadata": {
    "collapsed": true
   },
   "outputs": [],
   "source": [
    "import os\n",
    "import numpy as np\n",
    "import copy\n",
    "import time\n",
    "\n",
    "from curbside_models import *"
   ]
  },
  {
   "cell_type": "code",
   "execution_count": 1,
   "metadata": {
    "collapsed": false
   },
   "outputs": [
    {
     "data": {
      "text/plain": [
       "'C:\\\\Program Files\\\\Anaconda3\\\\python.exe'"
      ]
     },
     "execution_count": 1,
     "metadata": {},
     "output_type": "execute_result"
    }
   ],
   "source": [
    "import sys\n",
    "sys.executable"
   ]
  },
  {
   "cell_type": "markdown",
   "metadata": {},
   "source": [
    "## Initialization"
   ]
  },
  {
   "cell_type": "code",
   "execution_count": 14,
   "metadata": {
    "collapsed": false
   },
   "outputs": [],
   "source": [
    "Q = 2 # Maximum number of spaces at each candidate location\n",
    "B = 50000 # ($) budget\n",
    "H = 100 # average daily pickups/dropoffs for 1 space\n",
    "\n",
    "n_rows = 16\n",
    "n_cols = 37\n",
    "\n",
    "candidate_list = [(14, 3), (11, 5), (11, 7), (9, 9), (4, 11), (6, 13), (3, 14), \n",
    "                  (6, 16), (4, 17), (2, 21), (4, 22), (5, 27), (0, 28), (5, 32)]\n",
    "costs_list = [(2000, 5000) for i in range(len(candidate_list))]\n",
    "srkernel_list = [[1, 0.6, 0.2, 0] for i in range(len(candidate_list))]\n",
    "\n",
    "np.random.seed(101)\n",
    "demand_matrix = np.random.randint(10, size=(n_rows, n_cols))\n",
    "\n",
    "# remove demands far from all candidate locations\n",
    "for row in range(n_rows):\n",
    "    for col in range(n_cols):\n",
    "        _keep = False\n",
    "        for k in range(len(candidate_list)):\n",
    "            i = candidate_list[k][0]\n",
    "            j = candidate_list[k][1]\n",
    "            if abs(row-i) + abs(col-j) < len(srkernel_list[k])-1:\n",
    "                _keep = True\n",
    "                break\n",
    "        if not _keep:\n",
    "            demand_matrix[row][col] = 0\n",
    "\n",
    "g = Grid(n_rows, n_cols, candidate_list, costs_list, srkernel_list, demand_matrix)"
   ]
  },
  {
   "cell_type": "markdown",
   "metadata": {},
   "source": [
    "## Exaustive Search"
   ]
  },
  {
   "cell_type": "code",
   "execution_count": 15,
   "metadata": {
    "collapsed": false
   },
   "outputs": [
    {
     "name": "stdout",
     "output_type": "stream",
     "text": [
      "278.0\n",
      "[1, 1, 0, 1, 1, 0, 0, 1, 0, 0, 1, 0, 0, 1]\n",
      "10.255066156387329\n"
     ]
    }
   ],
   "source": [
    "start = time.time()\n",
    "\n",
    "n_cand = len(candidate_list)\n",
    "min_obj = 999999999\n",
    "min_cand = []\n",
    "\n",
    "def obj_value(sol):\n",
    "    g.clear_supply()\n",
    "    for i in range(n_cand):\n",
    "        if sol[i] == 1:\n",
    "            g.update_supply(candidate_list[i][0], candidate_list[i][1], H)\n",
    "    return g.unmet_demand()\n",
    "\n",
    "def generate_solution(sol):\n",
    "    global min_obj\n",
    "    global min_cand\n",
    "    if len(sol) == n_cand:\n",
    "        _cost = 0\n",
    "        for i in range(n_cand):\n",
    "            if sol[i] > 0:\n",
    "                _cost += g.cells[candidate_list[i][0]][candidate_list[i][1]].fixed_cost\n",
    "                _cost += g.cells[candidate_list[i][0]][candidate_list[i][1]].operational_cost * sol[i]\n",
    "        if _cost <= B and obj_value(sol) < min_obj:\n",
    "            min_obj = obj_value(sol)\n",
    "            min_cand = copy.copy(sol)\n",
    "    else:\n",
    "        sol1 = copy.copy(sol)\n",
    "        sol1.append(0)\n",
    "        generate_solution(sol1)\n",
    "        sol2 = copy.copy(sol)\n",
    "        sol2.append(1)\n",
    "        generate_solution(sol2)\n",
    "        \n",
    "generate_solution([])\n",
    "print(min_obj)\n",
    "print(min_cand)\n",
    "\n",
    "end = time.time()\n",
    "print(end - start)"
   ]
  },
  {
   "cell_type": "markdown",
   "metadata": {},
   "source": [
    "## Heuristics/ Greedy algorithm"
   ]
  },
  {
   "cell_type": "code",
   "execution_count": 16,
   "metadata": {
    "collapsed": false
   },
   "outputs": [
    {
     "name": "stdout",
     "output_type": "stream",
     "text": [
      "282.0\n",
      "[1, 0, 1, 0, 1, 0, 1, 1, 0, 0, 1, 0, 0, 1]\n",
      "0.015991926193237305\n"
     ]
    }
   ],
   "source": [
    "start = time.time()\n",
    "\n",
    "g.clear_supply()\n",
    "budget_left = B\n",
    "min_cand2 = [0 for i in range(n_cand)]\n",
    "Q = 1\n",
    "\n",
    "while budget_left > 0:\n",
    "    max_contribution = 0\n",
    "    _index = -1\n",
    "    for i in range(n_cand):\n",
    "        if min_cand2[i] < Q:\n",
    "            _cost = g.cells[candidate_list[i][0]][candidate_list[i][1]].operational_cost\n",
    "            if min_cand2[i] == 0:\n",
    "                _cost += g.cells[candidate_list[i][0]][candidate_list[i][1]].fixed_cost\n",
    "            if _cost < budget_left:\n",
    "                _tmp = g.contribution_of_one_cadidate(candidate_list[i][0], candidate_list[i][1], H)\n",
    "                if _tmp > max_contribution:\n",
    "                    max_contribution = _tmp\n",
    "                    _index = i\n",
    "    if _index >= 0:\n",
    "        budget_left -= g.cells[candidate_list[i][0]][candidate_list[i][1]].operational_cost\n",
    "        if min_cand2[_index] == 0:\n",
    "            budget_left -= g.cells[candidate_list[i][0]][candidate_list[i][1]].fixed_cost\n",
    "        min_cand2[_index] += 1\n",
    "        g.update_supply(candidate_list[_index][0], candidate_list[_index][1], H) \n",
    "    else:\n",
    "        break\n",
    "\n",
    "print(g.unmet_demand())\n",
    "print(min_cand2)\n",
    "\n",
    "end = time.time()\n",
    "print(end - start)"
   ]
  },
  {
   "cell_type": "markdown",
   "metadata": {
    "collapsed": true
   },
   "source": [
    "## Experiments forall algorithms"
   ]
  },
  {
   "cell_type": "code",
   "execution_count": 2,
   "metadata": {
    "collapsed": false
   },
   "outputs": [
    {
     "name": "stdout",
     "output_type": "stream",
     "text": [
      "0\n",
      "1\n",
      "2\n",
      "3\n",
      "4\n",
      "5\n",
      "6\n",
      "7\n",
      "8\n",
      "9\n",
      "10\n",
      "11\n",
      "12\n",
      "13\n",
      "14\n",
      "15\n",
      "16\n",
      "17\n",
      "18\n",
      "19\n",
      "Exhaustive search\n",
      "855.8 64.3409667319\n",
      "10.5741765022 0.22144181105\n",
      "Greedy\n",
      "856.3 64.3561185902\n",
      "0.00654734373093 0.000752999970961\n",
      "Evenly distributed\n",
      "905.0 61.2878454508\n",
      "0.00118663311005 0.000368273062762\n",
      "Random selection\n",
      "996.35 85.6266751661\n",
      "0.00122240781784 0.000402806931854\n"
     ]
    }
   ],
   "source": [
    "Q = 1 # Maximum number of spaces at each candidate location\n",
    "B = 50000 # ($) budget\n",
    "H = 100 # average daily pickups/dropoffs for 1 space\n",
    "\n",
    "n_rows = 16\n",
    "n_cols = 37\n",
    "\n",
    "candidate_list = [(14, 3), (11, 5), (11, 7), (9, 9), (4, 11), (6, 13), (3, 14), \n",
    "                  (6, 16), (4, 17), (2, 21), (4, 22), (5, 27), (0, 28), (5, 32)]\n",
    "costs_list = [(2000, 5000) for i in range(len(candidate_list))]\n",
    "srkernel_list = [[1, 0.6, 0.2, 0] for i in range(len(candidate_list))]\n",
    "\n",
    "\n",
    "def obj_value(sol):\n",
    "    g.clear_supply()\n",
    "    for i in range(n_cand):\n",
    "        if sol[i] == 1:\n",
    "            g.update_supply(candidate_list[i][0], candidate_list[i][1], H)\n",
    "    return g.unmet_demand()\n",
    "\n",
    "def generate_solution(sol):\n",
    "    global min_obj\n",
    "    global min_cand\n",
    "    if len(sol) == n_cand:\n",
    "        _cost = 0\n",
    "        for i in range(n_cand):\n",
    "            if sol[i] > 0:\n",
    "                _cost += g.cells[candidate_list[i][0]][candidate_list[i][1]].fixed_cost\n",
    "                _cost += g.cells[candidate_list[i][0]][candidate_list[i][1]].operational_cost * sol[i]\n",
    "        if _cost <= B and obj_value(sol) < min_obj:\n",
    "            min_obj = obj_value(sol)\n",
    "            min_cand = copy.copy(sol)\n",
    "    else:\n",
    "        sol1 = copy.copy(sol)\n",
    "        sol1.append(0)\n",
    "        generate_solution(sol1)\n",
    "        sol2 = copy.copy(sol)\n",
    "        sol2.append(1)\n",
    "        generate_solution(sol2)\n",
    "\n",
    "n = 20\n",
    "obj_ES = np.zeros(n)\n",
    "time_ES = np.zeros(n)\n",
    "obj_greedy = np.zeros(n)\n",
    "time_greedy = np.zeros(n)\n",
    "obj_ED = np.zeros(n)\n",
    "time_ED = np.zeros(n)\n",
    "obj_RS = np.zeros(n)\n",
    "time_RS = np.zeros(n)\n",
    "n_cand = len(candidate_list)\n",
    "for seed in range(n):\n",
    "    print(seed)\n",
    "    np.random.seed(seed)\n",
    "    demand_matrix = np.random.randint(20, size=(n_rows, n_cols))\n",
    "    # remove demands far from all candidate locations\n",
    "    for row in range(n_rows):\n",
    "        for col in range(n_cols):\n",
    "            _keep = False\n",
    "            for k in range(len(candidate_list)):\n",
    "                i = candidate_list[k][0]\n",
    "                j = candidate_list[k][1]\n",
    "                if abs(row-i) + abs(col-j) < len(srkernel_list[k])-1:\n",
    "                    _keep = True\n",
    "                    break\n",
    "            if not _keep:\n",
    "                demand_matrix[row][col] = 0\n",
    "    g = Grid(n_rows, n_cols, candidate_list, costs_list, srkernel_list, demand_matrix)\n",
    "    \n",
    "    # ES\n",
    "    start = time.time()\n",
    "    g.clear_supply()\n",
    "    min_obj = 999999999\n",
    "    min_cand = []\n",
    "    generate_solution([])\n",
    "    end = time.time()\n",
    "    obj_ES[seed] = min_obj\n",
    "    time_ES[seed] = end - start\n",
    "    \n",
    "    # greedy\n",
    "    start = time.time()\n",
    "    g.clear_supply()\n",
    "    budget_left = B\n",
    "    min_cand2 = [0 for i in range(n_cand)]\n",
    "    while budget_left > 0:\n",
    "        max_contribution = 0\n",
    "        _index = -1\n",
    "        for i in range(n_cand):\n",
    "            if min_cand2[i] < Q:\n",
    "                _cost = g.cells[candidate_list[i][0]][candidate_list[i][1]].operational_cost\n",
    "                if min_cand2[i] == 0:\n",
    "                    _cost += g.cells[candidate_list[i][0]][candidate_list[i][1]].fixed_cost\n",
    "                if _cost < budget_left:\n",
    "                    _tmp = g.contribution_of_one_cadidate(candidate_list[i][0], candidate_list[i][1], H)\n",
    "                    if _tmp > max_contribution:\n",
    "                        max_contribution = _tmp\n",
    "                        _index = i\n",
    "        if _index >= 0:\n",
    "            budget_left -= g.cells[candidate_list[_index][0]][candidate_list[_index][1]].operational_cost\n",
    "            if min_cand2[_index] == 0:\n",
    "                budget_left -= g.cells[candidate_list[_index][0]][candidate_list[_index][1]].fixed_cost\n",
    "            min_cand2[_index] += 1\n",
    "            g.update_supply(candidate_list[_index][0], candidate_list[_index][1], H) \n",
    "        else:\n",
    "            break\n",
    "    end = time.time()\n",
    "    obj_greedy[seed] = g.unmet_demand()\n",
    "    time_greedy[seed] = end - start\n",
    "    \n",
    "    # ED\n",
    "    start = time.time()\n",
    "    g.clear_supply()\n",
    "    num = int(np.floor(B/7000))\n",
    "    interval = int(np.floor(n_cand/num))\n",
    "    min_cand3 = [0 for i in range(n_cand)]\n",
    "    for i in range(num):\n",
    "        min_cand3[i*interval] = 1\n",
    "    obj_ED[seed] = obj_value(min_cand3)\n",
    "    end = time.time()\n",
    "    time_ED[seed] = end - start\n",
    "    \n",
    "    # RS\n",
    "    start = time.time()\n",
    "    g.clear_supply()\n",
    "    min_cand4 = [0 for i in range(n_cand)]\n",
    "    choice = np.random.choice(n_cand, num)\n",
    "    for i in choice:\n",
    "        min_cand4[i] = 1\n",
    "    obj_RS[seed] = obj_value(min_cand4)\n",
    "    end = time.time()\n",
    "    time_RS[seed] = end - start\n",
    "\n",
    "print('Exhaustive search')\n",
    "print(np.mean(obj_ES), np.std(obj_ES))\n",
    "print(np.mean(time_ES), np.std(time_ES))\n",
    "print('Greedy')\n",
    "print(np.mean(obj_greedy), np.std(obj_greedy))\n",
    "print(np.mean(time_greedy), np.std(time_greedy))\n",
    "print('Evenly distributed')\n",
    "print(np.mean(obj_ED), np.std(obj_ED))\n",
    "print(np.mean(time_ED), np.std(time_ED))\n",
    "print('Random selection')\n",
    "print(np.mean(obj_RS), np.std(obj_RS))\n",
    "print(np.mean(time_RS), np.std(time_RS))"
   ]
  },
  {
   "cell_type": "code",
   "execution_count": null,
   "metadata": {
    "collapsed": true
   },
   "outputs": [],
   "source": []
  }
 ],
 "metadata": {
  "anaconda-cloud": {},
  "kernelspec": {
   "display_name": "Python [default]",
   "language": "python",
   "name": "python3"
  },
  "language_info": {
   "codemirror_mode": {
    "name": "ipython",
    "version": 3
   },
   "file_extension": ".py",
   "mimetype": "text/x-python",
   "name": "python",
   "nbconvert_exporter": "python",
   "pygments_lexer": "ipython3",
   "version": "3.5.2"
  }
 },
 "nbformat": 4,
 "nbformat_minor": 1
}
