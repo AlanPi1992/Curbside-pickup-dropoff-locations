{
 "cells": [
  {
   "cell_type": "code",
   "execution_count": 1,
   "metadata": {
    "collapsed": true
   },
   "outputs": [],
   "source": [
    "import os\n",
    "import numpy as np\n",
    "import copy\n",
    "import time\n",
    "\n",
    "from curbside_models import *"
   ]
  },
  {
   "cell_type": "markdown",
   "metadata": {},
   "source": [
    "## Initialization"
   ]
  },
  {
   "cell_type": "code",
   "execution_count": 2,
   "metadata": {
    "collapsed": false
   },
   "outputs": [],
   "source": [
    "Q = 2 # Maximum number of spaces at each candidate location\n",
    "B = 50000 # ($) annual budget\n",
    "H = 100 # average daily pickups/dropoffs for 1 space\n",
    "\n",
    "n_rows = 16\n",
    "n_cols = 37\n",
    "\n",
    "candidate_list = [(14, 3), (11, 5), (11, 7), (9, 9), (4, 11), (6, 13), (3, 14), \n",
    "                  (6, 16), (4, 17), (2, 21), (4, 22), (5, 27), (0, 28), (5, 32)]\n",
    "costs_list = [(2000, 5000) for i in range(len(candidate_list))]\n",
    "srkernel_list = [[1, 0.6, 0.2, 0] for i in range(len(candidate_list))]\n",
    "\n",
    "np.random.seed(100)\n",
    "demand_matrix = np.random.randint(50, size=(n_rows, n_cols))\n",
    "\n",
    "# remove demands far from all candidate locations\n",
    "for row in range(n_rows):\n",
    "    for col in range(n_cols):\n",
    "        _keep = False\n",
    "        for k in range(len(candidate_list)):\n",
    "            i = candidate_list[k][0]\n",
    "            j = candidate_list[k][1]\n",
    "            if abs(row-i) + abs(col-j) < len(srkernel_list[k]):\n",
    "                _keep = True\n",
    "                break\n",
    "        if not _keep:\n",
    "            demand_matrix[row][col] = 0\n",
    "\n",
    "g = Grid(n_rows, n_cols, candidate_list, costs_list, srkernel_list, demand_matrix)"
   ]
  },
  {
   "cell_type": "markdown",
   "metadata": {},
   "source": [
    "## Exaustive Search"
   ]
  },
  {
   "cell_type": "code",
   "execution_count": 6,
   "metadata": {
    "collapsed": false
   },
   "outputs": [
    {
     "name": "stdout",
     "output_type": "stream",
     "text": [
      "5187.0\n",
      "[0, 0, 0, 0, 1, 1, 1, 0, 1, 0, 1, 1, 0, 1]\n",
      "9.921203136444092\n"
     ]
    }
   ],
   "source": [
    "start = time.time()\n",
    "\n",
    "n_cand = len(candidate_list)\n",
    "min_obj = 999999999\n",
    "min_cand = []\n",
    "\n",
    "def obj_value(sol):\n",
    "    g.clear_supply()\n",
    "    for i in range(n_cand):\n",
    "        if sol[i] == 1:\n",
    "            g.update_supply(candidate_list[i][0], candidate_list[i][1], H)\n",
    "    return g.unmet_demand()\n",
    "\n",
    "def generate_solution(sol):\n",
    "    global min_obj\n",
    "    global min_cand\n",
    "    if len(sol) == n_cand:\n",
    "        _cost = 0\n",
    "        for i in range(n_cand):\n",
    "            if sol[i] > 0:\n",
    "                _cost += g.cells[candidate_list[i][0]][candidate_list[i][1]].fixed_cost\n",
    "                _cost += g.cells[candidate_list[i][0]][candidate_list[i][1]].operational_cost * sol[i]\n",
    "        if _cost <= B and obj_value(sol) < min_obj:\n",
    "            min_obj = obj_value(sol)\n",
    "            min_cand = copy.copy(sol)\n",
    "    else:\n",
    "        sol1 = copy.copy(sol)\n",
    "        sol1.append(0)\n",
    "        generate_solution(sol1)\n",
    "        sol2 = copy.copy(sol)\n",
    "        sol2.append(1)\n",
    "        generate_solution(sol2)\n",
    "        \n",
    "generate_solution([])\n",
    "print(min_obj)\n",
    "print(min_cand)\n",
    "\n",
    "end = time.time()\n",
    "print(end - start)"
   ]
  },
  {
   "cell_type": "markdown",
   "metadata": {},
   "source": [
    "## Heuristics/ Greedy algorithm"
   ]
  },
  {
   "cell_type": "code",
   "execution_count": 8,
   "metadata": {
    "collapsed": false
   },
   "outputs": [
    {
     "name": "stdout",
     "output_type": "stream",
     "text": [
      "5187.0\n",
      "[0, 1, 0, 0, 1, 1, 1, 0, 1, 0, 1, 1, 0, 0]\n",
      "0.009006738662719727\n"
     ]
    }
   ],
   "source": [
    "start = time.time()\n",
    "\n",
    "g.clear_supply()\n",
    "budget_left = B\n",
    "min_obj2 = 0\n",
    "min_cand2 = [0 for i in range(n_cand)]\n",
    "Q = 1\n",
    "\n",
    "while budget_left > 0:\n",
    "    max_contribution = 0\n",
    "    _index = -1\n",
    "    for i in range(n_cand):\n",
    "        if min_cand2[_index] < Q and g.cells[candidate_list[i][0]][candidate_list[i][1]].fixed_cost + \\\n",
    "           g.cells[candidate_list[i][0]][candidate_list[i][1]].operational_cost < budget_left:\n",
    "            _tmp = g.contribution_of_one_cadidate(candidate_list[i][0], candidate_list[i][1], H)\n",
    "            if _tmp > max_contribution:\n",
    "                max_contribution = _tmp\n",
    "                _index = i\n",
    "    budget_left -= g.cells[candidate_list[i][0]][candidate_list[i][1]].fixed_cost + g.cells[candidate_list[i][0]][candidate_list[i][1]].operational_cost\n",
    "    if _index >= 0:\n",
    "        min_cand2[_index] += 1\n",
    "        g.update_supply(candidate_list[_index][0], candidate_list[_index][1], H) \n",
    "    else:\n",
    "        break\n",
    "\n",
    "print(g.unmet_demand())\n",
    "print(min_cand2)\n",
    "\n",
    "end = time.time()\n",
    "print(end - start)"
   ]
  },
  {
   "cell_type": "code",
   "execution_count": null,
   "metadata": {
    "collapsed": true
   },
   "outputs": [],
   "source": []
  }
 ],
 "metadata": {
  "anaconda-cloud": {},
  "kernelspec": {
   "display_name": "Python [default]",
   "language": "python",
   "name": "python3"
  },
  "language_info": {
   "codemirror_mode": {
    "name": "ipython",
    "version": 3
   },
   "file_extension": ".py",
   "mimetype": "text/x-python",
   "name": "python",
   "nbconvert_exporter": "python",
   "pygments_lexer": "ipython3",
   "version": "3.5.2"
  }
 },
 "nbformat": 4,
 "nbformat_minor": 1
}
